{
 "cells": [
  {
   "cell_type": "markdown",
   "id": "e1ad71bd",
   "metadata": {},
   "source": []
  },
  {
   "cell_type": "markdown",
   "id": "6e414338",
   "metadata": {},
   "source": []
  },
  {
   "cell_type": "markdown",
   "id": "ea26df8c",
   "metadata": {},
   "source": [
    "# Feature Engineering for F&B Anomaly Detection\n",
    "# Creating Advanced Features for Quality Prediction\n",
    "#\n",
    "# This script demonstrates comprehensive feature engineering techniques to extract meaningful patterns from the process data."
   ]
  },
  {
   "cell_type": "code",
   "execution_count": 15,
   "id": "559db1e6",
   "metadata": {},
   "outputs": [],
   "source": [
    "# Import required libraries\n",
    "import pandas as pd\n",
    "import numpy as np\n",
    "import matplotlib.pyplot as plt\n",
    "import seaborn as sns\n",
    "from scipy import stats\n",
    "from scipy.signal import find_peaks\n",
    "from sklearn.preprocessing import PolynomialFeatures\n",
    "import warnings\n",
    "warnings.filterwarnings('ignore')"
   ]
  },
  {
   "cell_type": "code",
   "execution_count": 29,
   "id": "cd365d69",
   "metadata": {},
   "outputs": [],
   "source": [
    "# Machine Learning imports\n",
    "from sklearn.preprocessing import StandardScaler, RobustScaler, PolynomialFeatures\n",
    "from sklearn.model_selection import train_test_split, cross_val_score, GridSearchCV\n",
    "from sklearn.feature_selection import SelectKBest, f_regression, RFE\n",
    "from sklearn.metrics import r2_score, mean_squared_error, mean_absolute_error\n"
   ]
  },
  {
   "cell_type": "code",
   "execution_count": 30,
   "id": "7d09ac98",
   "metadata": {},
   "outputs": [],
   "source": [
    "# Models\n",
    "from sklearn.ensemble import RandomForestRegressor, GradientBoostingRegressor\n",
    "from sklearn.linear_model import LinearRegression, Ridge, Lasso\n",
    "from sklearn.svm import SVR\n",
    "import xgboost as xgb"
   ]
  },
  {
   "cell_type": "code",
   "execution_count": 31,
   "id": "e9882fdc",
   "metadata": {},
   "outputs": [],
   "source": [
    "# Import custom modules\n",
    "import sys\n",
    "sys.path.append('..')\n",
    "from src.data_processor import DataProcessor\n",
    "from src.feature_engineer import FeatureEngineer\n",
    "from src.config import PROCESS_PARAMS, FEATURE_CONFIG\n"
   ]
  },
  {
   "cell_type": "code",
   "execution_count": 32,
   "id": "9fa881fb",
   "metadata": {},
   "outputs": [],
   "source": [
    "# Set visualization style\n",
    "plt.style.use('seaborn-v0_8-darkgrid')\n",
    "%matplotlib inline\n"
   ]
  },
  {
   "cell_type": "markdown",
   "id": "f1d41d5a",
   "metadata": {},
   "source": [
    "# 1. Load and Prepare Data"
   ]
  },
  {
   "cell_type": "code",
   "execution_count": 33,
   "id": "52f9414a",
   "metadata": {},
   "outputs": [
    {
     "name": "stderr",
     "output_type": "stream",
     "text": [
      "\u001b[32m2025-08-23 20:27:26.994\u001b[0m | \u001b[1mINFO    \u001b[0m | \u001b[36msrc.data_processor\u001b[0m:\u001b[36m__init__\u001b[0m:\u001b[36m34\u001b[0m - \u001b[1mDataProcessor initialized\u001b[0m\n",
      "\u001b[32m2025-08-23 20:27:27.009\u001b[0m | \u001b[1mINFO    \u001b[0m | \u001b[36msrc.data_processor\u001b[0m:\u001b[36mload_data\u001b[0m:\u001b[36m50\u001b[0m - \u001b[1mLoading data from ../data/raw/FnB_Process_Data_Batch_Wise.xlsx\u001b[0m\n",
      "\u001b[32m2025-08-23 20:27:27.674\u001b[0m | \u001b[1mINFO    \u001b[0m | \u001b[36msrc.data_processor\u001b[0m:\u001b[36mload_data\u001b[0m:\u001b[36m74\u001b[0m - \u001b[1mLoaded 1500 rows of process data\u001b[0m\n",
      "\u001b[32m2025-08-23 20:27:27.681\u001b[0m | \u001b[1mINFO    \u001b[0m | \u001b[36msrc.data_processor\u001b[0m:\u001b[36mload_data\u001b[0m:\u001b[36m75\u001b[0m - \u001b[1mLoaded quality data for 25 batches\u001b[0m\n",
      "\u001b[32m2025-08-23 20:27:27.686\u001b[0m | \u001b[1mINFO    \u001b[0m | \u001b[36msrc.data_processor\u001b[0m:\u001b[36mclean_data\u001b[0m:\u001b[36m93\u001b[0m - \u001b[1mStarting data cleaning process\u001b[0m\n",
      "\u001b[32m2025-08-23 20:27:27.705\u001b[0m | \u001b[1mINFO    \u001b[0m | \u001b[36msrc.data_processor\u001b[0m:\u001b[36mclean_data\u001b[0m:\u001b[36m104\u001b[0m - \u001b[1mMissing values before cleaning: 0\u001b[0m\n",
      "\u001b[32m2025-08-23 20:27:27.799\u001b[0m | \u001b[1mINFO    \u001b[0m | \u001b[36msrc.data_processor\u001b[0m:\u001b[36mclean_data\u001b[0m:\u001b[36m117\u001b[0m - \u001b[1mMissing values after cleaning: 0\u001b[0m\n",
      "\u001b[32m2025-08-23 20:27:27.814\u001b[0m | \u001b[1mINFO    \u001b[0m | \u001b[36msrc.data_processor\u001b[0m:\u001b[36mclean_data\u001b[0m:\u001b[36m122\u001b[0m - \u001b[1mData cleaned: 1500 rows remaining\u001b[0m\n"
     ]
    },
    {
     "name": "stdout",
     "output_type": "stream",
     "text": [
      "Data shape: (1500, 12)\n",
      "Batches: 25\n",
      "Quality data available for 25 batches\n",
      "\n",
      "Quality Data Summary:\n",
      "       Final Weight  Quality Score\n",
      "count     25.000000      25.000000\n",
      "mean      50.419969      89.319531\n",
      "std        1.749105       4.926627\n",
      "min       48.059167      80.106050\n",
      "25%       49.196974      85.941539\n",
      "50%       49.998787      90.483178\n",
      "75%       51.270763      92.612621\n",
      "max       55.039415      96.710203\n"
     ]
    }
   ],
   "source": [
    "# Load and clean data\n",
    "processor = DataProcessor()\n",
    "process_data, quality_data = processor.load_data('../data/raw/FnB_Process_Data_Batch_Wise.xlsx')\n",
    "clean_data = processor.clean_data(process_data)\n",
    "\n",
    "print(f\"Data shape: {clean_data.shape}\")\n",
    "print(f\"Batches: {clean_data['Batch_ID'].nunique()}\")\n",
    "print(f\"Quality data available for {len(quality_data)} batches\")\n",
    "\n",
    "# Verify quality data\n",
    "print(\"\\nQuality Data Summary:\")\n",
    "quality_df = pd.DataFrame.from_dict(quality_data, orient='index')\n",
    "print(quality_df.describe())"
   ]
  },
  {
   "cell_type": "markdown",
   "id": "615e0824",
   "metadata": {},
   "source": [
    "# 2. Initial Feature Extraction"
   ]
  },
  {
   "cell_type": "code",
   "execution_count": 34,
   "id": "35e5071a",
   "metadata": {},
   "outputs": [
    {
     "name": "stderr",
     "output_type": "stream",
     "text": [
      "\u001b[32m2025-08-23 20:27:51.789\u001b[0m | \u001b[1mINFO    \u001b[0m | \u001b[36msrc.feature_engineer\u001b[0m:\u001b[36m__init__\u001b[0m:\u001b[36m26\u001b[0m - \u001b[1mFeatureEngineer initialized\u001b[0m\n",
      "\u001b[32m2025-08-23 20:27:51.791\u001b[0m | \u001b[1mINFO    \u001b[0m | \u001b[36msrc.feature_engineer\u001b[0m:\u001b[36mextract_batch_features\u001b[0m:\u001b[36m41\u001b[0m - \u001b[1mExtracting batch features\u001b[0m\n",
      "\u001b[32m2025-08-23 20:27:54.225\u001b[0m | \u001b[1mINFO    \u001b[0m | \u001b[36msrc.feature_engineer\u001b[0m:\u001b[36mextract_batch_features\u001b[0m:\u001b[36m87\u001b[0m - \u001b[1mExtracted 25 batch features with 282 features\u001b[0m\n",
      "\u001b[32m2025-08-23 20:27:54.232\u001b[0m | \u001b[1mINFO    \u001b[0m | \u001b[36msrc.feature_engineer\u001b[0m:\u001b[36mextract_batch_features\u001b[0m:\u001b[36m91\u001b[0m - \u001b[1mQuality data available for 25/25 batches\u001b[0m\n"
     ]
    },
    {
     "name": "stdout",
     "output_type": "stream",
     "text": [
      "Initial features shape: (25, 285)\n",
      "Number of features: 282\n",
      "Quality data available for 25/25 batches\n"
     ]
    }
   ],
   "source": [
    "\n",
    "# Initialize feature engineer\n",
    "engineer = FeatureEngineer()\n",
    "\n",
    "# Extract comprehensive batch features\n",
    "batch_features = engineer.extract_batch_features(clean_data, quality_data)\n",
    "\n",
    "print(f\"Initial features shape: {batch_features.shape}\")\n",
    "print(f\"Number of features: {len(batch_features.columns) - 3}\")  # Excluding Batch_ID and targets\n",
    "\n",
    "# Check quality data availability\n",
    "quality_available = batch_features[['Final_Weight', 'Quality_Score']].notna().all(axis=1).sum()\n",
    "print(f\"Quality data available for {quality_available}/{len(batch_features)} batches\")"
   ]
  },
  {
   "cell_type": "code",
   "execution_count": 35,
   "id": "0c2fd7b9",
   "metadata": {},
   "outputs": [],
   "source": [
    "# 3. Data Quality Assessment"
   ]
  },
  {
   "cell_type": "code",
   "execution_count": 36,
   "id": "341b75b4",
   "metadata": {},
   "outputs": [
    {
     "name": "stdout",
     "output_type": "stream",
     "text": [
      "=== DATA QUALITY ASSESSMENT ===\n",
      "----------------------------------------\n",
      "Target Variable Analysis:\n",
      "  Total samples: 25\n",
      "  Non-null quality scores: 25\n",
      "  Quality Score - Mean: 89.32%, Std: 4.93%\n",
      "  Quality Score - Range: 80.11% - 96.71%\n",
      "  Final Weight - Mean: 50.42 kg, Std: 1.75 kg\n",
      "\n",
      "Feature Quality Analysis:\n",
      "  Total features: 282\n",
      "  Features with missing values: 0\n",
      "  Features with zero/near-zero variance: 6\n"
     ]
    },
    {
     "data": {
      "image/png": "[encoded data removed]",
      "text/plain": [
       "<Figure size 1200x400 with 2 Axes>"
      ]
     },
     "metadata": {},
     "output_type": "display_data"
    }
   ],
   "source": [
    "print(\"=== DATA QUALITY ASSESSMENT ===\")\n",
    "print(\"-\" * 40)\n",
    "\n",
    "if 'Quality_Score' in batch_features.columns:\n",
    "    # Target variable analysis\n",
    "    quality_scores = batch_features['Quality_Score'].dropna()\n",
    "    weight_scores = batch_features['Final_Weight'].dropna()\n",
    "    \n",
    "    print(\"Target Variable Analysis:\")\n",
    "    print(f\"  Total samples: {len(batch_features)}\")\n",
    "    print(f\"  Non-null quality scores: {len(quality_scores)}\")\n",
    "    print(f\"  Quality Score - Mean: {quality_scores.mean():.2f}%, Std: {quality_scores.std():.2f}%\")\n",
    "    print(f\"  Quality Score - Range: {quality_scores.min():.2f}% - {quality_scores.max():.2f}%\")\n",
    "    print(f\"  Final Weight - Mean: {weight_scores.mean():.2f} kg, Std: {weight_scores.std():.2f} kg\")\n",
    "    \n",
    "    # Feature quality\n",
    "    feature_cols = [col for col in batch_features.columns \n",
    "                   if col not in ['Batch_ID', 'Quality_Score', 'Final_Weight']]\n",
    "    \n",
    "    print(f\"\\nFeature Quality Analysis:\")\n",
    "    print(f\"  Total features: {len(feature_cols)}\")\n",
    "    print(f\"  Features with missing values: {batch_features[feature_cols].isnull().any().sum()}\")\n",
    "    \n",
    "    # Check for zero variance features\n",
    "    zero_var_features = [col for col in feature_cols if batch_features[col].var() < 1e-10]\n",
    "    print(f\"  Features with zero/near-zero variance: {len(zero_var_features)}\")\n",
    "    \n",
    "    # Visualize target distribution\n",
    "    fig, axes = plt.subplots(1, 2, figsize=(12, 4))\n",
    "    \n",
    "    axes[0].hist(quality_scores, bins=15, edgecolor='black', alpha=0.7)\n",
    "    axes[0].set_xlabel('Quality Score (%)')\n",
    "    axes[0].set_ylabel('Frequency')\n",
    "    axes[0].set_title('Quality Score Distribution')\n",
    "    axes[0].axvline(quality_scores.mean(), color='red', linestyle='--', label=f'Mean: {quality_scores.mean():.1f}')\n",
    "    axes[0].legend()\n",
    "    \n",
    "    axes[1].hist(weight_scores, bins=15, edgecolor='black', alpha=0.7, color='green')\n",
    "    axes[1].set_xlabel('Final Weight (kg)')\n",
    "    axes[1].set_ylabel('Frequency')\n",
    "    axes[1].set_title('Final Weight Distribution')\n",
    "    axes[1].axvline(weight_scores.mean(), color='red', linestyle='--', label=f'Mean: {weight_scores.mean():.1f}')\n",
    "    axes[1].legend()\n",
    "    \n",
    "    plt.tight_layout()\n",
    "    plt.show()\n"
   ]
  },
  {
   "cell_type": "markdown",
   "id": "ad90f6cc",
   "metadata": {},
   "source": [
    "# 4. Advanced Feature Preprocessing"
   ]
  },
  {
   "cell_type": "code",
   "execution_count": 37,
   "id": "b845827d",
   "metadata": {},
   "outputs": [
    {
     "name": "stdout",
     "output_type": "stream",
     "text": [
      "=== ADVANCED FEATURE PREPROCESSING ===\n",
      "----------------------------------------\n",
      "Removed 6 zero-variance features\n",
      "Remaining features: 276\n",
      "\n",
      "Handling missing values...\n",
      "Missing values after preprocessing: 0\n"
     ]
    }
   ],
   "source": [
    "print(\"=== ADVANCED FEATURE PREPROCESSING ===\")\n",
    "print(\"-\" * 40)\n",
    "\n",
    "# Remove features with zero variance\n",
    "good_features = [col for col in feature_cols if col not in zero_var_features]\n",
    "print(f\"Removed {len(zero_var_features)} zero-variance features\")\n",
    "print(f\"Remaining features: {len(good_features)}\")\n",
    "\n",
    "# Prepare data\n",
    "X = batch_features[good_features].copy()\n",
    "y_quality = batch_features['Quality_Score'].copy()\n",
    "y_weight = batch_features['Final_Weight'].copy()\n",
    "\n",
    "# Handle missing values intelligently\n",
    "print(\"\\nHandling missing values...\")\n",
    "for col in X.columns:\n",
    "    if X[col].isnull().sum() > 0:\n",
    "        # Use median for numerical features\n",
    "        X[col].fillna(X[col].median(), inplace=True)\n",
    "\n",
    "# Handle target missing values\n",
    "y_quality.fillna(y_quality.median(), inplace=True)\n",
    "y_weight.fillna(y_weight.median(), inplace=True)\n",
    "\n",
    "print(f\"Missing values after preprocessing: {X.isnull().sum().sum()}\")\n"
   ]
  },
  {
   "cell_type": "markdown",
   "id": "d828329e",
   "metadata": {},
   "source": [
    "# 5. Outlier Detection and Removal"
   ]
  },
  {
   "cell_type": "code",
   "execution_count": 38,
   "id": "78d6d5dc",
   "metadata": {},
   "outputs": [
    {
     "name": "stdout",
     "output_type": "stream",
     "text": [
      "=== OUTLIER DETECTION AND REMOVAL ===\n",
      "----------------------------------------\n",
      "Samples before outlier removal: 25\n",
      "Samples after outlier removal: 24\n",
      "Outliers removed: 1\n"
     ]
    }
   ],
   "source": [
    "print(\"=== OUTLIER DETECTION AND REMOVAL ===\")\n",
    "print(\"-\" * 40)\n",
    "\n",
    "# Detect outliers in target variable using IQR method\n",
    "Q1_q, Q3_q = y_quality.quantile([0.25, 0.75])\n",
    "IQR_q = Q3_q - Q1_q\n",
    "quality_outlier_mask = (y_quality >= Q1_q - 1.5 * IQR_q) & (y_quality <= Q3_q + 1.5 * IQR_q)\n",
    "\n",
    "Q1_w, Q3_w = y_weight.quantile([0.25, 0.75])\n",
    "IQR_w = Q3_w - Q1_w\n",
    "weight_outlier_mask = (y_weight >= Q1_w - 1.5 * IQR_w) & (y_weight <= Q3_w + 1.5 * IQR_w)\n",
    "\n",
    "# Combine masks (keep samples that are not outliers in both targets)\n",
    "outlier_mask = quality_outlier_mask & weight_outlier_mask\n",
    "\n",
    "X_clean = X[outlier_mask]\n",
    "y_quality_clean = y_quality[outlier_mask]\n",
    "y_weight_clean = y_weight[outlier_mask]\n",
    "\n",
    "print(f\"Samples before outlier removal: {len(X)}\")\n",
    "print(f\"Samples after outlier removal: {len(X_clean)}\")\n",
    "print(f\"Outliers removed: {len(X) - len(X_clean)}\")"
   ]
  },
  {
   "cell_type": "markdown",
   "id": "890c3618",
   "metadata": {},
   "source": [
    "# 6. Feature Selection"
   ]
  },
  {
   "cell_type": "code",
   "execution_count": 39,
   "id": "8c759eab",
   "metadata": {},
   "outputs": [
    {
     "name": "stdout",
     "output_type": "stream",
     "text": [
      "=== FEATURE SELECTION ===\n",
      "----------------------------------------\n",
      "Features with correlation > 0.1 to quality: 189\n",
      "Features with correlation > 0.1 to weight: 183\n",
      "Combined high correlation features: 243\n",
      "\n",
      "Statistically selected features: 58\n",
      "\n",
      "Final selected features: 58\n",
      "Top 10 features:\n",
      "   1. Yeast (kg)_mean_change_rate\n",
      "   2. Oven Humidity (%)_range\n",
      "   3. Water Temp (C)_max_deviation\n",
      "   4. Mixer Speed (RPM)_stability\n",
      "   5. Oven Humidity (%)_max_consecutive_oot\n",
      "   6. Mixer Speed (RPM)_critical_deviation_ratio\n",
      "   7. Sugar (kg)_min\n",
      "   8. Yeast (kg)_trend_slope\n",
      "   9. Water Temp (C)_range\n",
      "  10. Yeast (kg)_std\n"
     ]
    }
   ],
   "source": [
    "print(\"=== FEATURE SELECTION ===\")\n",
    "print(\"-\" * 40)\n",
    "\n",
    "# Method 1: Correlation-based selection\n",
    "correlations_quality = X_clean.corrwith(y_quality_clean).abs()\n",
    "correlations_weight = X_clean.corrwith(y_weight_clean).abs()\n",
    "\n",
    "# Get features with significant correlation to either target\n",
    "high_corr_features_q = correlations_quality[correlations_quality > 0.1].index.tolist()\n",
    "high_corr_features_w = correlations_weight[correlations_weight > 0.1].index.tolist()\n",
    "high_corr_features = list(set(high_corr_features_q) | set(high_corr_features_w))\n",
    "\n",
    "print(f\"Features with correlation > 0.1 to quality: {len(high_corr_features_q)}\")\n",
    "print(f\"Features with correlation > 0.1 to weight: {len(high_corr_features_w)}\")\n",
    "print(f\"Combined high correlation features: {len(high_corr_features)}\")\n",
    "\n",
    "# Method 2: Statistical feature selection (SelectKBest)\n",
    "k_best = min(30, len(good_features))\n",
    "selector_q = SelectKBest(score_func=f_regression, k=k_best)\n",
    "selector_q.fit(X_clean, y_quality_clean)\n",
    "statistical_features_q = X_clean.columns[selector_q.get_support()].tolist()\n",
    "\n",
    "selector_w = SelectKBest(score_func=f_regression, k=k_best)\n",
    "selector_w.fit(X_clean, y_weight_clean)\n",
    "statistical_features_w = X_clean.columns[selector_w.get_support()].tolist()\n",
    "\n",
    "statistical_features = list(set(statistical_features_q) | set(statistical_features_w))\n",
    "print(f\"\\nStatistically selected features: {len(statistical_features)}\")\n",
    "\n",
    "# Combine both methods\n",
    "if len(high_corr_features) > 0:\n",
    "    final_features = list(set(high_corr_features) & set(statistical_features))\n",
    "    if len(final_features) < 10:  # Ensure minimum features\n",
    "        final_features = statistical_features[:min(20, len(statistical_features))]\n",
    "else:\n",
    "    final_features = statistical_features[:min(20, len(statistical_features))]\n",
    "\n",
    "print(f\"\\nFinal selected features: {len(final_features)}\")\n",
    "print(f\"Top 10 features:\")\n",
    "for i, feat in enumerate(final_features[:10], 1):\n",
    "    print(f\"  {i:2d}. {feat}\")\n",
    "\n",
    "# Prepare final dataset\n",
    "X_final = X_clean[final_features]\n"
   ]
  },
  {
   "cell_type": "code",
   "execution_count": null,
   "id": "bc815eea",
   "metadata": {},
   "outputs": [],
   "source": []
  },
  {
   "cell_type": "markdown",
   "id": "445df790",
   "metadata": {},
   "source": [
    "# 7. Feature Scaling"
   ]
  },
  {
   "cell_type": "code",
   "execution_count": 40,
   "id": "def855bb",
   "metadata": {},
   "outputs": [
    {
     "name": "stdout",
     "output_type": "stream",
     "text": [
      "Scaled feature matrix shape: (24, 58)\n",
      "Features scaled to mean=0, std=1\n"
     ]
    }
   ],
   "source": [
    "# Scale features for better model performance\n",
    "scaler = StandardScaler()\n",
    "X_scaled = scaler.fit_transform(X_final)\n",
    "X_scaled_df = pd.DataFrame(X_scaled, columns=final_features, index=X_final.index)\n",
    "\n",
    "print(f\"Scaled feature matrix shape: {X_scaled.shape}\")\n",
    "print(f\"Features scaled to mean=0, std=1\")\n"
   ]
  },
  {
   "cell_type": "markdown",
   "id": "576512d7",
   "metadata": {},
   "source": [
    "# 8. Model Comparison with Cross-Validation\n"
   ]
  },
  {
   "cell_type": "code",
   "execution_count": 41,
   "id": "ca69f106",
   "metadata": {},
   "outputs": [
    {
     "name": "stdout",
     "output_type": "stream",
     "text": [
      "=== MODEL COMPARISON WITH CROSS-VALIDATION ===\n",
      "----------------------------------------\n",
      "\n",
      "Quality Score Prediction Performance:\n",
      "----------------------------------------\n",
      "Linear Regression   : R² = +0.3067 (±0.8558)\n",
      "Ridge Regression    : R² = +0.3366 (±0.8339)\n",
      "Lasso Regression    : R² = -0.7889 (±2.7205)\n",
      "Random Forest       : R² = -0.3169 (±0.8631)\n",
      "Gradient Boosting   : R² = -1.5013 (±3.4740)\n",
      "XGBoost             : R² = -0.2582 (±1.1811)\n",
      "SVR                 : R² = -0.6632 (±1.1823)\n",
      "\n",
      "Final Weight Prediction Performance:\n",
      "----------------------------------------\n",
      "Linear Regression   : R² = -1.9355 (±3.4878)\n",
      "Ridge Regression    : R² = -1.5056 (±3.1029)\n",
      "Lasso Regression    : R² = -1.0545 (±3.8877)\n",
      "Random Forest       : R² = -0.6820 (±3.1908)\n",
      "Gradient Boosting   : R² = -2.9779 (±10.3713)\n",
      "XGBoost             : R² = -1.1390 (±3.6065)\n",
      "SVR                 : R² = -0.2507 (±0.8283)\n"
     ]
    }
   ],
   "source": [
    "print(\"=== MODEL COMPARISON WITH CROSS-VALIDATION ===\")\n",
    "print(\"-\" * 40)\n",
    "\n",
    "# Define models to test\n",
    "models = {\n",
    "    'Linear Regression': LinearRegression(),\n",
    "    'Ridge Regression': Ridge(alpha=1.0),\n",
    "    'Lasso Regression': Lasso(alpha=0.1, max_iter=1000),\n",
    "    'Random Forest': RandomForestRegressor(n_estimators=100, random_state=42, max_depth=8),\n",
    "    'Gradient Boosting': GradientBoostingRegressor(n_estimators=100, random_state=42, max_depth=4),\n",
    "    'XGBoost': xgb.XGBRegressor(n_estimators=100, random_state=42, max_depth=4, verbosity=0),\n",
    "    'SVR': SVR(kernel='rbf', C=1.0, gamma='scale')\n",
    "}\n",
    "\n",
    "# Evaluate all models for Quality Score prediction\n",
    "print(\"\\nQuality Score Prediction Performance:\")\n",
    "print(\"-\" * 40)\n",
    "\n",
    "quality_results = {}\n",
    "for name, model in models.items():\n",
    "    try:\n",
    "        cv_scores = cross_val_score(model, X_scaled, y_quality_clean, \n",
    "                                   cv=min(5, len(X_scaled)), scoring='r2')\n",
    "        quality_results[name] = {\n",
    "            'mean_r2': cv_scores.mean(),\n",
    "            'std_r2': cv_scores.std(),\n",
    "            'scores': cv_scores\n",
    "        }\n",
    "        print(f\"{name:20s}: R² = {cv_scores.mean():+.4f} (±{cv_scores.std()*2:.4f})\")\n",
    "    except Exception as e:\n",
    "        print(f\"{name:20s}: Error - {str(e)}\")\n",
    "\n",
    "# Evaluate for Weight prediction\n",
    "print(\"\\nFinal Weight Prediction Performance:\")\n",
    "print(\"-\" * 40)\n",
    "\n",
    "weight_results = {}\n",
    "for name, model in models.items():\n",
    "    try:\n",
    "        cv_scores = cross_val_score(model, X_scaled, y_weight_clean, \n",
    "                                   cv=min(5, len(X_scaled)), scoring='r2')\n",
    "        weight_results[name] = {\n",
    "            'mean_r2': cv_scores.mean(),\n",
    "            'std_r2': cv_scores.std(),\n",
    "            'scores': cv_scores\n",
    "        }\n",
    "        print(f\"{name:20s}: R² = {cv_scores.mean():+.4f} (±{cv_scores.std()*2:.4f})\")\n",
    "    except Exception as e:\n",
    "        print(f\"{name:20s}: Error - {str(e)}\")\n"
   ]
  },
  {
   "cell_type": "markdown",
   "id": "48d8007a",
   "metadata": {},
   "source": [
    "# 9. Best Model Optimization\n"
   ]
  },
  {
   "cell_type": "code",
   "execution_count": 42,
   "id": "08e96ac4",
   "metadata": {},
   "outputs": [
    {
     "name": "stdout",
     "output_type": "stream",
     "text": [
      "=== BEST MODEL OPTIMIZATION ===\n",
      "----------------------------------------\n",
      "Best model for Quality: Ridge Regression (R² = 0.3366)\n",
      "Best model for Weight: SVR (R² = -0.2507)\n",
      "\n",
      "Hyperparameter tuning for Quality Score prediction...\n"
     ]
    }
   ],
   "source": [
    "print(\"=== BEST MODEL OPTIMIZATION ===\")\n",
    "print(\"-\" * 40)\n",
    "\n",
    "# Find best model for quality prediction\n",
    "best_model_name_q = max(quality_results.keys(), key=lambda x: quality_results[x]['mean_r2'])\n",
    "best_score_q = quality_results[best_model_name_q]['mean_r2']\n",
    "print(f\"Best model for Quality: {best_model_name_q} (R² = {best_score_q:.4f})\")\n",
    "\n",
    "# Find best model for weight prediction\n",
    "best_model_name_w = max(weight_results.keys(), key=lambda x: weight_results[x]['mean_r2'])\n",
    "best_score_w = weight_results[best_model_name_w]['mean_r2']\n",
    "print(f\"Best model for Weight: {best_model_name_w} (R² = {best_score_w:.4f})\")\n",
    "\n",
    "# Hyperparameter tuning for best quality model\n",
    "print(\"\\nHyperparameter tuning for Quality Score prediction...\")\n",
    "\n",
    "if 'Forest' in best_model_name_q:\n",
    "    param_grid = {\n",
    "        'n_estimators': [50, 100, 150],\n",
    "        'max_depth': [4, 6, 8, None],\n",
    "        'min_samples_split': [2, 5],\n",
    "        'min_samples_leaf': [1, 2]\n",
    "    }\n",
    "    base_model = RandomForestRegressor(random_state=42)\n",
    "elif 'XGB' in best_model_name_q:\n",
    "    param_grid = {\n",
    "        'n_estimators': [50, 100, 150],\n",
    "        'max_depth': [3, 4, 5],\n",
    "        'learning_rate': [0.01, 0.1, 0.2]\n",
    "    }\n",
    "    base_model = xgb.XGBRegressor(random_state=42, verbosity=0)\n",
    "elif 'Gradient' in best_model_name_q:\n",
    "    param_grid = {\n",
    "        'n_estimators': [50, 100, 150],\n",
    "        'max_depth': [3, 4, 5],\n",
    "        'learning_rate': [0.01, 0.1, 0.2]\n",
    "    }\n",
    "    base_model = GradientBoostingRegressor(random_state=42)\n",
    "else:\n",
    "    param_grid = {}\n",
    "    base_model = models[best_model_name_q]\n",
    "\n",
    "if param_grid:\n",
    "    grid_search = GridSearchCV(base_model, param_grid, cv=min(5, len(X_scaled)), \n",
    "                              scoring='r2', n_jobs=-1)\n",
    "    grid_search.fit(X_scaled, y_quality_clean)\n",
    "    print(f\"Best parameters: {grid_search.best_params_}\")\n",
    "    print(f\"Best CV score: {grid_search.best_score_:.4f}\")\n",
    "    best_model_q = grid_search.best_estimator_\n",
    "else:\n",
    "    best_model_q = models[best_model_name_q]\n",
    "    best_model_q.fit(X_scaled, y_quality_clean)"
   ]
  },
  {
   "cell_type": "markdown",
   "id": "fece046c",
   "metadata": {},
   "source": [
    "# 10. Final Model Evaluation\n"
   ]
  },
  {
   "cell_type": "code",
   "execution_count": 43,
   "id": "7ff13991",
   "metadata": {},
   "outputs": [
    {
     "name": "stdout",
     "output_type": "stream",
     "text": [
      "=== FINAL MODEL EVALUATION ===\n",
      "----------------------------------------\n",
      "Quality Score Prediction:\n",
      "  R² Score: 0.5113\n",
      "  RMSE: 3.9813\n",
      "  MAE: 3.6630\n",
      "\n",
      "Final Weight Prediction:\n",
      "  R² Score: 0.3318\n",
      "  RMSE: 0.9583\n",
      "  MAE: 0.7892\n"
     ]
    },
    {
     "data": {
      "image/png": "[encoded data removed]",
      "text/plain": [
       "<Figure size 1200x500 with 2 Axes>"
      ]
     },
     "metadata": {},
     "output_type": "display_data"
    }
   ],
   "source": [
    "print(\"=== FINAL MODEL EVALUATION ===\")\n",
    "print(\"-\" * 40)\n",
    "\n",
    "# Train-test split for final evaluation\n",
    "X_train, X_test, y_train_q, y_test_q = train_test_split(\n",
    "    X_scaled, y_quality_clean, test_size=0.2, random_state=42\n",
    ")\n",
    "_, _, y_train_w, y_test_w = train_test_split(\n",
    "    X_scaled, y_weight_clean, test_size=0.2, random_state=42\n",
    ")\n",
    "\n",
    "# Train final models\n",
    "best_model_q.fit(X_train, y_train_q)\n",
    "y_pred_q = best_model_q.predict(X_test)\n",
    "\n",
    "# Train weight model\n",
    "if 'Forest' in best_model_name_w:\n",
    "    best_model_w = RandomForestRegressor(n_estimators=100, max_depth=8, random_state=42)\n",
    "else:\n",
    "    best_model_w = models[best_model_name_w]\n",
    "best_model_w.fit(X_train, y_train_w)\n",
    "y_pred_w = best_model_w.predict(X_test)\n",
    "\n",
    "# Calculate metrics\n",
    "quality_r2 = r2_score(y_test_q, y_pred_q)\n",
    "quality_rmse = np.sqrt(mean_squared_error(y_test_q, y_pred_q))\n",
    "quality_mae = mean_absolute_error(y_test_q, y_pred_q)\n",
    "\n",
    "weight_r2 = r2_score(y_test_w, y_pred_w)\n",
    "weight_rmse = np.sqrt(mean_squared_error(y_test_w, y_pred_w))\n",
    "weight_mae = mean_absolute_error(y_test_w, y_pred_w)\n",
    "\n",
    "print(\"Quality Score Prediction:\")\n",
    "print(f\"  R² Score: {quality_r2:.4f}\")\n",
    "print(f\"  RMSE: {quality_rmse:.4f}\")\n",
    "print(f\"  MAE: {quality_mae:.4f}\")\n",
    "\n",
    "print(\"\\nFinal Weight Prediction:\")\n",
    "print(f\"  R² Score: {weight_r2:.4f}\")\n",
    "print(f\"  RMSE: {weight_rmse:.4f}\")\n",
    "print(f\"  MAE: {weight_mae:.4f}\")\n",
    "\n",
    "# Visualize predictions\n",
    "fig, axes = plt.subplots(1, 2, figsize=(12, 5))\n",
    "\n",
    "# Quality predictions\n",
    "axes[0].scatter(y_test_q, y_pred_q, alpha=0.6)\n",
    "axes[0].plot([y_test_q.min(), y_test_q.max()], \n",
    "            [y_test_q.min(), y_test_q.max()], 'r--', lw=2)\n",
    "axes[0].set_xlabel('Actual Quality Score (%)')\n",
    "axes[0].set_ylabel('Predicted Quality Score (%)')\n",
    "axes[0].set_title(f'Quality Prediction (R² = {quality_r2:.4f})')\n",
    "axes[0].grid(True, alpha=0.3)\n",
    "\n",
    "# Weight predictions\n",
    "axes[1].scatter(y_test_w, y_pred_w, alpha=0.6, color='green')\n",
    "axes[1].plot([y_test_w.min(), y_test_w.max()], \n",
    "            [y_test_w.min(), y_test_w.max()], 'r--', lw=2)\n",
    "axes[1].set_xlabel('Actual Weight (kg)')\n",
    "axes[1].set_ylabel('Predicted Weight (kg)')\n",
    "axes[1].set_title(f'Weight Prediction (R² = {weight_r2:.4f})')\n",
    "axes[1].grid(True, alpha=0.3)\n",
    "\n",
    "plt.tight_layout()\n",
    "plt.show()"
   ]
  },
  {
   "cell_type": "markdown",
   "id": "264c2668",
   "metadata": {},
   "source": [
    "# 11. Feature Importance Analysis\n"
   ]
  },
  {
   "cell_type": "code",
   "execution_count": 44,
   "id": "6b5c714e",
   "metadata": {},
   "outputs": [
    {
     "name": "stdout",
     "output_type": "stream",
     "text": [
      "=== FEATURE IMPORTANCE ANALYSIS ===\n",
      "----------------------------------------\n"
     ]
    }
   ],
   "source": [
    "print(\"=== FEATURE IMPORTANCE ANALYSIS ===\")\n",
    "print(\"-\" * 40)\n",
    "\n",
    "# Extract feature importance if available\n",
    "if hasattr(best_model_q, 'feature_importances_'):\n",
    "    importance_df = pd.DataFrame({\n",
    "        'Feature': final_features,\n",
    "        'Importance': best_model_q.feature_importances_\n",
    "    }).sort_values('Importance', ascending=False)\n",
    "    \n",
    "    print(\"Top 15 Most Important Features for Quality Prediction:\")\n",
    "    for i, (_, row) in enumerate(importance_df.head(15).iterrows(), 1):\n",
    "        print(f\"  {i:2d}. {row['Feature']:40s}: {row['Importance']:.4f}\")\n",
    "    \n",
    "    # Visualize feature importance\n",
    "    plt.figure(figsize=(10, 8))\n",
    "    top_features_plot = importance_df.head(15)\n",
    "    plt.barh(range(len(top_features_plot)), top_features_plot['Importance'])\n",
    "    plt.yticks(range(len(top_features_plot)), top_features_plot['Feature'])\n",
    "    plt.xlabel('Feature Importance')\n",
    "    plt.title(f'Top 15 Feature Importance ({best_model_name_q})')\n",
    "    plt.tight_layout()\n",
    "    plt.show()\n"
   ]
  },
  {
   "cell_type": "markdown",
   "id": "56c2c2bb",
   "metadata": {},
   "source": [
    "# 12. Save Engineered Features and Models\n"
   ]
  },
  {
   "cell_type": "code",
   "execution_count": 45,
   "id": "cc8434f2",
   "metadata": {},
   "outputs": [
    {
     "name": "stdout",
     "output_type": "stream",
     "text": [
      "Features saved to: ../data/processed/feature_engineered_data.csv\n",
      "Scaler saved to: ../data/models/scaler.pkl\n",
      "Feature names saved to: ../data/processed/selected_features.txt\n"
     ]
    }
   ],
   "source": [
    "# Create final feature dataset with selected features\n",
    "final_features_df = pd.concat([\n",
    "    batch_features[['Batch_ID']],\n",
    "    X_final,\n",
    "    batch_features[['Final_Weight', 'Quality_Score']]\n",
    "], axis=1)\n",
    "\n",
    "# Save to CSV\n",
    "output_path = '../data/processed/feature_engineered_data.csv'\n",
    "final_features_df.to_csv(output_path, index=False)\n",
    "print(f\"Features saved to: {output_path}\")\n",
    "\n",
    "# Save the scaler\n",
    "import joblib\n",
    "scaler_path = '../data/models/scaler.pkl'\n",
    "joblib.dump(scaler, scaler_path)\n",
    "print(f\"Scaler saved to: {scaler_path}\")\n",
    "\n",
    "# Save feature names\n",
    "feature_names_path = '../data/processed/selected_features.txt'\n",
    "with open(feature_names_path, 'w') as f:\n",
    "    for feature in final_features:\n",
    "        f.write(f\"{feature}\\n\")\n",
    "print(f\"Feature names saved to: {feature_names_path}\")\n"
   ]
  },
  {
   "cell_type": "code",
   "execution_count": 46,
   "id": "454f9519",
   "metadata": {},
   "outputs": [],
   "source": [
    "# 13. Final Summary and Recommendations\n"
   ]
  },
  {
   "cell_type": "code",
   "execution_count": null,
   "id": "f7c48f30",
   "metadata": {},
   "outputs": [
    {
     "name": "stdout",
     "output_type": "stream",
     "text": [
      "============================================================\n",
      "FEATURE ENGINEERING SUMMARY\n",
      "============================================================\n",
      "\n",
      "📊 Data Processing:\n",
      "  - Original samples: 25\n",
      "  - After outlier removal: 24\n",
      "  - Original features: 282\n",
      "  - Selected features: 58\n",
      "\n",
      "🎯 Model Performance:\n",
      "  Quality Score Prediction:\n",
      "    - Best Model: Ridge Regression\n",
      "    - R² Score: 0.5113\n",
      "    - MAE: 3.66%\n",
      "  Final Weight Prediction:\n",
      "    - Best Model: SVR\n",
      "    - R² Score: 0.3318\n",
      "    - MAE: 0.79 kg\n",
      "\n",
      "💡 Key Insights:\n",
      "  ✅ Good predictive performance achieved for quality score\n",
      "  ⚠️ Moderate predictive performance for weight prediction\n",
      "\n",
      "============================================================\n"
     ]
    },
    {
     "ename": "",
     "evalue": "",
     "output_type": "error",
     "traceback": [
      "\u001b[1;31mThe Kernel crashed while executing code in the current cell or a previous cell. \n",
      "\u001b[1;31mPlease review the code in the cell(s) to identify a possible cause of the failure. \n",
      "\u001b[1;31mClick <a href='https://aka.ms/vscodeJupyterKernelCrash'>here</a> for more info. \n",
      "\u001b[1;31mView Jupyter <a href='command:jupyter.viewOutput'>log</a> for further details."
     ]
    }
   ],
   "source": [
    "print(\"=\"*60)\n",
    "print(\"FEATURE ENGINEERING SUMMARY\")\n",
    "print(\"=\"*60)\n",
    "\n",
    "print(f\"\\n📊 Data Processing:\")\n",
    "print(f\"  - Original samples: {len(batch_features)}\")\n",
    "print(f\"  - After outlier removal: {len(X_clean)}\")\n",
    "print(f\"  - Original features: {len(feature_cols)}\")\n",
    "print(f\"  - Selected features: {len(final_features)}\")\n",
    "\n",
    "print(f\"\\n🎯 Model Performance:\")\n",
    "print(f\"  Quality Score Prediction:\")\n",
    "print(f\"    - Best Model: {best_model_name_q}\")\n",
    "print(f\"    - R² Score: {quality_r2:.4f}\")\n",
    "print(f\"    - MAE: {quality_mae:.2f}%\")\n",
    "print(f\"  Final Weight Prediction:\")\n",
    "print(f\"    - Best Model: {best_model_name_w}\")\n",
    "print(f\"    - R² Score: {weight_r2:.4f}\")\n",
    "print(f\"    - MAE: {weight_mae:.2f} kg\")\n",
    "\n",
    "print(f\"\\n💡 Key Insights:\")\n",
    "if quality_r2 > 0.5:\n",
    "    print(\"  ✅ Good predictive performance achieved for quality score\")\n",
    "elif quality_r2 > 0.2:\n",
    "    print(\"  ⚠️ Moderate predictive performance - consider collecting more data\")\n",
    "else:\n",
    "    print(\"  ❌ Low predictive performance - review feature engineering approach\")\n",
    "\n",
    "if weight_r2 > 0.5:\n",
    "    print(\"  ✅ Good predictive performance achieved for final weight\")\n",
    "elif weight_r2 > 0.2:\n",
    "    print(\"  ⚠️ Moderate predictive performance for weight prediction\")\n",
    "else:\n",
    "    print(\"  ❌ Low predictive performance for weight - needs improvement\")\n",
    "\n",
    "\n",
    "\n",
    "print(\"\\n\" + \"=\"*60)"
   ]
  }
 ],
 "metadata": {
  "kernelspec": {
   "display_name": "gcvenv",
   "language": "python",
   "name": "python3"
  },
  "language_info": {
   "codemirror_mode": {
    "name": "ipython",
    "version": 3
   },
   "file_extension": ".py",
   "mimetype": "text/x-python",
   "name": "python",
   "nbconvert_exporter": "python",
   "pygments_lexer": "ipython3",
   "version": "3.9.11"
  }
 },
 "nbformat": 4,
 "nbformat_minor": 5
}
